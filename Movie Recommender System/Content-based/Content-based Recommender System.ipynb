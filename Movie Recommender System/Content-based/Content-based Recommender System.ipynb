{
 "cells": [
  {
   "cell_type": "markdown",
   "id": "f9b57b39",
   "metadata": {},
   "source": [
    "# Content-based Recommender System \n",
    "[Model on hugging face](https://huggingface.co/spaces/MehrabK/RecommenderSystem)\n",
    "\n",
    "### Contents\n",
    "* Preprocessing\n",
    "* Modeling"
   ]
  },
  {
   "cell_type": "code",
   "execution_count": 2,
   "id": "8d30f4b1",
   "metadata": {},
   "outputs": [],
   "source": [
    "import pandas as pd\n",
    "import numpy as np\n",
    "from sklearn.feature_extraction.text import TfidfVectorizer\n",
    "from sklearn.metrics.pairwise import cosine_similarity\n",
    "import pickle"
   ]
  },
  {
   "cell_type": "code",
   "execution_count": 3,
   "id": "993b4567",
   "metadata": {},
   "outputs": [
    {
     "data": {
      "text/html": [
       "<div>\n",
       "<style scoped>\n",
       "    .dataframe tbody tr th:only-of-type {\n",
       "        vertical-align: middle;\n",
       "    }\n",
       "\n",
       "    .dataframe tbody tr th {\n",
       "        vertical-align: top;\n",
       "    }\n",
       "\n",
       "    .dataframe thead th {\n",
       "        text-align: right;\n",
       "    }\n",
       "</style>\n",
       "<table border=\"1\" class=\"dataframe\">\n",
       "  <thead>\n",
       "    <tr style=\"text-align: right;\">\n",
       "      <th></th>\n",
       "      <th>genres</th>\n",
       "      <th>id</th>\n",
       "      <th>original_language</th>\n",
       "      <th>overview</th>\n",
       "      <th>poster_path</th>\n",
       "      <th>title</th>\n",
       "      <th>release_year</th>\n",
       "      <th>cast</th>\n",
       "      <th>crew</th>\n",
       "      <th>keywords</th>\n",
       "    </tr>\n",
       "  </thead>\n",
       "  <tbody>\n",
       "    <tr>\n",
       "      <th>0</th>\n",
       "      <td>['Animation', 'Comedy', 'Family']</td>\n",
       "      <td>862.0</td>\n",
       "      <td>en</td>\n",
       "      <td>Led by Woody, Andy's toys live happily in his ...</td>\n",
       "      <td>/rhIRbceoE9lR4veEXuwCC2wARtG.jpg</td>\n",
       "      <td>Toy Story</td>\n",
       "      <td>1995.0</td>\n",
       "      <td>['Tom Hanks', 'Tim Allen', 'Don Rickles']</td>\n",
       "      <td>['John Lasseter']</td>\n",
       "      <td>['jealousy', 'toy', 'boy', 'friendship', 'frie...</td>\n",
       "    </tr>\n",
       "  </tbody>\n",
       "</table>\n",
       "</div>"
      ],
      "text/plain": [
       "                              genres     id original_language  \\\n",
       "0  ['Animation', 'Comedy', 'Family']  862.0                en   \n",
       "\n",
       "                                            overview  \\\n",
       "0  Led by Woody, Andy's toys live happily in his ...   \n",
       "\n",
       "                        poster_path      title  release_year  \\\n",
       "0  /rhIRbceoE9lR4veEXuwCC2wARtG.jpg  Toy Story        1995.0   \n",
       "\n",
       "                                        cast               crew  \\\n",
       "0  ['Tom Hanks', 'Tim Allen', 'Don Rickles']  ['John Lasseter']   \n",
       "\n",
       "                                            keywords  \n",
       "0  ['jealousy', 'toy', 'boy', 'friendship', 'frie...  "
      ]
     },
     "execution_count": 3,
     "metadata": {},
     "output_type": "execute_result"
    }
   ],
   "source": [
    "data = pd.read_csv('cleaned_data.csv').iloc[:, 1:]\n",
    "data.head(1)"
   ]
  },
  {
   "cell_type": "code",
   "execution_count": 4,
   "id": "1f63ec8f",
   "metadata": {},
   "outputs": [
    {
     "data": {
      "text/plain": [
       "(42102, 10)"
      ]
     },
     "execution_count": 4,
     "metadata": {},
     "output_type": "execute_result"
    }
   ],
   "source": [
    "data.shape"
   ]
  },
  {
   "cell_type": "markdown",
   "id": "9f9c1955",
   "metadata": {},
   "source": [
    "---\n",
    "# Preprocessing"
   ]
  },
  {
   "cell_type": "code",
   "execution_count": 5,
   "id": "5757c889",
   "metadata": {},
   "outputs": [
    {
     "data": {
      "text/html": [
       "<div>\n",
       "<style scoped>\n",
       "    .dataframe tbody tr th:only-of-type {\n",
       "        vertical-align: middle;\n",
       "    }\n",
       "\n",
       "    .dataframe tbody tr th {\n",
       "        vertical-align: top;\n",
       "    }\n",
       "\n",
       "    .dataframe thead th {\n",
       "        text-align: right;\n",
       "    }\n",
       "</style>\n",
       "<table border=\"1\" class=\"dataframe\">\n",
       "  <thead>\n",
       "    <tr style=\"text-align: right;\">\n",
       "      <th></th>\n",
       "      <th>genres</th>\n",
       "      <th>id</th>\n",
       "      <th>original_language</th>\n",
       "      <th>overview</th>\n",
       "      <th>poster_path</th>\n",
       "      <th>title</th>\n",
       "      <th>release_year</th>\n",
       "      <th>cast</th>\n",
       "      <th>crew</th>\n",
       "      <th>keywords</th>\n",
       "    </tr>\n",
       "  </thead>\n",
       "  <tbody>\n",
       "    <tr>\n",
       "      <th>0</th>\n",
       "      <td>['Animation', 'Comedy', 'Family']</td>\n",
       "      <td>862.0</td>\n",
       "      <td>en</td>\n",
       "      <td>Led by Woody, Andy's toys live happily in his ...</td>\n",
       "      <td>/rhIRbceoE9lR4veEXuwCC2wARtG.jpg</td>\n",
       "      <td>Toy Story</td>\n",
       "      <td>1995.0</td>\n",
       "      <td>['Tom Hanks', 'Tim Allen', 'Don Rickles']</td>\n",
       "      <td>['John Lasseter']</td>\n",
       "      <td>['jealousy', 'toy', 'boy', 'friendship', 'frie...</td>\n",
       "    </tr>\n",
       "  </tbody>\n",
       "</table>\n",
       "</div>"
      ],
      "text/plain": [
       "                              genres     id original_language  \\\n",
       "0  ['Animation', 'Comedy', 'Family']  862.0                en   \n",
       "\n",
       "                                            overview  \\\n",
       "0  Led by Woody, Andy's toys live happily in his ...   \n",
       "\n",
       "                        poster_path      title  release_year  \\\n",
       "0  /rhIRbceoE9lR4veEXuwCC2wARtG.jpg  Toy Story        1995.0   \n",
       "\n",
       "                                        cast               crew  \\\n",
       "0  ['Tom Hanks', 'Tim Allen', 'Don Rickles']  ['John Lasseter']   \n",
       "\n",
       "                                            keywords  \n",
       "0  ['jealousy', 'toy', 'boy', 'friendship', 'frie...  "
      ]
     },
     "execution_count": 5,
     "metadata": {},
     "output_type": "execute_result"
    }
   ],
   "source": [
    "data.head(1)"
   ]
  },
  {
   "cell_type": "code",
   "execution_count": 6,
   "id": "eecaaf6c",
   "metadata": {},
   "outputs": [],
   "source": [
    "data['overview'] = data['overview'].apply(lambda x: x.split())"
   ]
  },
  {
   "cell_type": "code",
   "execution_count": 7,
   "id": "fa5bc911",
   "metadata": {},
   "outputs": [],
   "source": [
    "g = lambda x: x.replace('\\'', '').replace('[', '').replace(']', '').replace(',', '').split(' ')"
   ]
  },
  {
   "cell_type": "code",
   "execution_count": 8,
   "id": "ec67f232",
   "metadata": {},
   "outputs": [],
   "source": [
    "data['genres'] = data['genres'].apply(g)\n",
    "data['cast'] = data['cast'].apply(g)\n",
    "data['crew'] = data['crew'].apply(g)\n",
    "data['keywords'] = data['keywords'].apply(g)"
   ]
  },
  {
   "cell_type": "code",
   "execution_count": 9,
   "id": "36077344",
   "metadata": {},
   "outputs": [
    {
     "data": {
      "text/html": [
       "<div>\n",
       "<style scoped>\n",
       "    .dataframe tbody tr th:only-of-type {\n",
       "        vertical-align: middle;\n",
       "    }\n",
       "\n",
       "    .dataframe tbody tr th {\n",
       "        vertical-align: top;\n",
       "    }\n",
       "\n",
       "    .dataframe thead th {\n",
       "        text-align: right;\n",
       "    }\n",
       "</style>\n",
       "<table border=\"1\" class=\"dataframe\">\n",
       "  <thead>\n",
       "    <tr style=\"text-align: right;\">\n",
       "      <th></th>\n",
       "      <th>genres</th>\n",
       "      <th>id</th>\n",
       "      <th>original_language</th>\n",
       "      <th>overview</th>\n",
       "      <th>poster_path</th>\n",
       "      <th>title</th>\n",
       "      <th>release_year</th>\n",
       "      <th>cast</th>\n",
       "      <th>crew</th>\n",
       "      <th>keywords</th>\n",
       "    </tr>\n",
       "  </thead>\n",
       "  <tbody>\n",
       "    <tr>\n",
       "      <th>0</th>\n",
       "      <td>[Animation, Comedy, Family]</td>\n",
       "      <td>862.0</td>\n",
       "      <td>en</td>\n",
       "      <td>[Led, by, Woody,, Andy's, toys, live, happily,...</td>\n",
       "      <td>/rhIRbceoE9lR4veEXuwCC2wARtG.jpg</td>\n",
       "      <td>Toy Story</td>\n",
       "      <td>1995.0</td>\n",
       "      <td>[Tom, Hanks, Tim, Allen, Don, Rickles]</td>\n",
       "      <td>[John, Lasseter]</td>\n",
       "      <td>[jealousy, toy, boy, friendship, friends, riva...</td>\n",
       "    </tr>\n",
       "  </tbody>\n",
       "</table>\n",
       "</div>"
      ],
      "text/plain": [
       "                        genres     id original_language  \\\n",
       "0  [Animation, Comedy, Family]  862.0                en   \n",
       "\n",
       "                                            overview  \\\n",
       "0  [Led, by, Woody,, Andy's, toys, live, happily,...   \n",
       "\n",
       "                        poster_path      title  release_year  \\\n",
       "0  /rhIRbceoE9lR4veEXuwCC2wARtG.jpg  Toy Story        1995.0   \n",
       "\n",
       "                                     cast              crew  \\\n",
       "0  [Tom, Hanks, Tim, Allen, Don, Rickles]  [John, Lasseter]   \n",
       "\n",
       "                                            keywords  \n",
       "0  [jealousy, toy, boy, friendship, friends, riva...  "
      ]
     },
     "execution_count": 9,
     "metadata": {},
     "output_type": "execute_result"
    }
   ],
   "source": [
    "data.head(1)"
   ]
  },
  {
   "cell_type": "code",
   "execution_count": 10,
   "id": "6da41c02",
   "metadata": {
    "scrolled": true
   },
   "outputs": [],
   "source": [
    "data['tags'] = data['overview'] + data['genres'] + data['keywords'] + data['cast'] + data['crew']\n",
    "data.drop(['overview', 'genres', 'cast', 'crew', 'keywords'], axis=1, inplace=True)"
   ]
  },
  {
   "cell_type": "code",
   "execution_count": 11,
   "id": "caf29545",
   "metadata": {},
   "outputs": [],
   "source": [
    "data['tags'] = data['tags'].apply(lambda x: \" \".join(x))"
   ]
  },
  {
   "cell_type": "code",
   "execution_count": 12,
   "id": "7f92698d",
   "metadata": {},
   "outputs": [],
   "source": [
    "data['tags'] = data['original_language'].astype(str) + ' ' + data['tags']\n",
    "data.drop(['original_language'], axis=1, inplace=True)"
   ]
  },
  {
   "cell_type": "code",
   "execution_count": 13,
   "id": "7c6bcba5",
   "metadata": {},
   "outputs": [],
   "source": [
    "data['tags'] = data['release_year'].astype(str) + ' ' + data['tags']\n",
    "data.drop(['release_year'], axis=1, inplace=True)"
   ]
  },
  {
   "cell_type": "code",
   "execution_count": 14,
   "id": "1cea369a",
   "metadata": {},
   "outputs": [
    {
     "data": {
      "text/html": [
       "<div>\n",
       "<style scoped>\n",
       "    .dataframe tbody tr th:only-of-type {\n",
       "        vertical-align: middle;\n",
       "    }\n",
       "\n",
       "    .dataframe tbody tr th {\n",
       "        vertical-align: top;\n",
       "    }\n",
       "\n",
       "    .dataframe thead th {\n",
       "        text-align: right;\n",
       "    }\n",
       "</style>\n",
       "<table border=\"1\" class=\"dataframe\">\n",
       "  <thead>\n",
       "    <tr style=\"text-align: right;\">\n",
       "      <th></th>\n",
       "      <th>id</th>\n",
       "      <th>poster_path</th>\n",
       "      <th>title</th>\n",
       "      <th>tags</th>\n",
       "    </tr>\n",
       "  </thead>\n",
       "  <tbody>\n",
       "    <tr>\n",
       "      <th>0</th>\n",
       "      <td>862.0</td>\n",
       "      <td>/rhIRbceoE9lR4veEXuwCC2wARtG.jpg</td>\n",
       "      <td>Toy Story</td>\n",
       "      <td>1995.0 en Led by Woody, Andy's toys live happi...</td>\n",
       "    </tr>\n",
       "  </tbody>\n",
       "</table>\n",
       "</div>"
      ],
      "text/plain": [
       "      id                       poster_path      title  \\\n",
       "0  862.0  /rhIRbceoE9lR4veEXuwCC2wARtG.jpg  Toy Story   \n",
       "\n",
       "                                                tags  \n",
       "0  1995.0 en Led by Woody, Andy's toys live happi...  "
      ]
     },
     "execution_count": 14,
     "metadata": {},
     "output_type": "execute_result"
    }
   ],
   "source": [
    "data.head(1)"
   ]
  },
  {
   "cell_type": "markdown",
   "id": "ba0cb895",
   "metadata": {},
   "source": [
    "We can also remove duplicated titles "
   ]
  },
  {
   "cell_type": "code",
   "execution_count": 15,
   "id": "64ed4fa4",
   "metadata": {},
   "outputs": [],
   "source": [
    "# data[['title']].duplicated().sum()\n",
    "# data = data.iloc[data[['title']].drop_duplicates().index]"
   ]
  },
  {
   "cell_type": "code",
   "execution_count": 16,
   "id": "40b980c9",
   "metadata": {},
   "outputs": [
    {
     "data": {
      "text/plain": [
       "(42102, 4)"
      ]
     },
     "execution_count": 16,
     "metadata": {},
     "output_type": "execute_result"
    }
   ],
   "source": [
    "data.shape"
   ]
  },
  {
   "cell_type": "markdown",
   "id": "acc23710",
   "metadata": {},
   "source": [
    "Saving data"
   ]
  },
  {
   "cell_type": "code",
   "execution_count": 17,
   "id": "0432be7a",
   "metadata": {},
   "outputs": [],
   "source": [
    "pickle.dump(data, open('data.pkl','wb'))"
   ]
  },
  {
   "cell_type": "markdown",
   "id": "168bd845",
   "metadata": {},
   "source": [
    "---\n",
    "# Modeling"
   ]
  },
  {
   "cell_type": "code",
   "execution_count": 52,
   "id": "252fd0d3",
   "metadata": {},
   "outputs": [],
   "source": [
    "tfidf = TfidfVectorizer(stop_words='english')"
   ]
  },
  {
   "cell_type": "code",
   "execution_count": 53,
   "id": "a28fdf1f",
   "metadata": {},
   "outputs": [],
   "source": [
    "tfidf_matrix = tfidf.fit_transform(data['tags'])"
   ]
  },
  {
   "cell_type": "code",
   "execution_count": 54,
   "id": "ad56b198",
   "metadata": {},
   "outputs": [],
   "source": [
    "tfidf_matrix = tfidf_matrix.astype(np.float32)"
   ]
  },
  {
   "cell_type": "code",
   "execution_count": 55,
   "id": "009b9ad4",
   "metadata": {},
   "outputs": [
    {
     "data": {
      "text/plain": [
       "(42102, 104408)"
      ]
     },
     "execution_count": 55,
     "metadata": {},
     "output_type": "execute_result"
    }
   ],
   "source": [
    "tfidf_matrix.shape"
   ]
  },
  {
   "cell_type": "code",
   "execution_count": 56,
   "id": "f99b0dab",
   "metadata": {},
   "outputs": [],
   "source": [
    "cosine_sim = cosine_similarity(tfidf_matrix)"
   ]
  },
  {
   "cell_type": "code",
   "execution_count": 57,
   "id": "de8071f4",
   "metadata": {},
   "outputs": [
    {
     "data": {
      "text/plain": [
       "(42102, 42102)"
      ]
     },
     "execution_count": 57,
     "metadata": {},
     "output_type": "execute_result"
    }
   ],
   "source": [
    "cosine_sim.shape"
   ]
  },
  {
   "cell_type": "code",
   "execution_count": 58,
   "id": "69e9ef08",
   "metadata": {},
   "outputs": [
    {
     "name": "stdout",
     "output_type": "stream",
     "text": [
      "6.603369243443012 GB\n"
     ]
    }
   ],
   "source": [
    "from sys import getsizeof\n",
    "print(getsizeof(cosine_sim) / 1024**3, 'GB')"
   ]
  },
  {
   "cell_type": "code",
   "execution_count": 67,
   "id": "18ea3ddc",
   "metadata": {},
   "outputs": [],
   "source": [
    "cosine_sim = cosine_sim.astype(np.float16)"
   ]
  },
  {
   "cell_type": "code",
   "execution_count": 68,
   "id": "2c8c70f6",
   "metadata": {},
   "outputs": [
    {
     "name": "stdout",
     "output_type": "stream",
     "text": [
      "3.3016846776008606 GB\n"
     ]
    }
   ],
   "source": [
    "print(getsizeof(cosine_sim) / 1024**3, 'GB')"
   ]
  },
  {
   "cell_type": "markdown",
   "id": "ad8e20a3",
   "metadata": {},
   "source": [
    "Svaing matrix"
   ]
  },
  {
   "cell_type": "code",
   "execution_count": 74,
   "id": "c2741fa5",
   "metadata": {},
   "outputs": [],
   "source": [
    "pickle.dump(cosine_sim, open('similarity.pkl','wb'))"
   ]
  },
  {
   "cell_type": "code",
   "execution_count": 69,
   "id": "ffc972fb",
   "metadata": {},
   "outputs": [
    {
     "data": {
      "text/plain": [
       "title\n",
       "Toy Story                          0\n",
       "Jumanji                            1\n",
       "Grumpier Old Men                   2\n",
       "Waiting to Exhale                  3\n",
       "Father of the Bride Part II        4\n",
       "                               ...  \n",
       "The Burkittsville 7            42097\n",
       "Caged Heat 3000                42098\n",
       "Robin Hood                     42099\n",
       "Century of Birthing            42100\n",
       "Betrayal                       42101\n",
       "Length: 42102, dtype: int64"
      ]
     },
     "execution_count": 69,
     "metadata": {},
     "output_type": "execute_result"
    }
   ],
   "source": [
    "indices = pd.Series(data.index, index=data['title'])\n",
    "indices"
   ]
  },
  {
   "cell_type": "markdown",
   "id": "3e6ffdfd",
   "metadata": {},
   "source": [
    "### Logic"
   ]
  },
  {
   "cell_type": "code",
   "execution_count": 26,
   "id": "488e3355",
   "metadata": {},
   "outputs": [],
   "source": [
    "t = 'Avatar'"
   ]
  },
  {
   "cell_type": "code",
   "execution_count": 27,
   "id": "4ea2c457",
   "metadata": {},
   "outputs": [
    {
     "data": {
      "text/plain": [
       "14259"
      ]
     },
     "execution_count": 27,
     "metadata": {},
     "output_type": "execute_result"
    }
   ],
   "source": [
    "indices[t]"
   ]
  },
  {
   "cell_type": "code",
   "execution_count": 28,
   "id": "eae1f900",
   "metadata": {},
   "outputs": [],
   "source": [
    "indx = [14259]"
   ]
  },
  {
   "cell_type": "code",
   "execution_count": 29,
   "id": "0050830f",
   "metadata": {},
   "outputs": [],
   "source": [
    "s = list(enumerate(cosine_sim[14259]))"
   ]
  },
  {
   "cell_type": "code",
   "execution_count": 30,
   "id": "78a45dad",
   "metadata": {},
   "outputs": [],
   "source": [
    "s = sorted(s, key=lambda x: x[1], reverse=True)"
   ]
  },
  {
   "cell_type": "code",
   "execution_count": 31,
   "id": "0c66c0f8",
   "metadata": {},
   "outputs": [
    {
     "data": {
      "text/plain": [
       "[(38627, 0.3242336),\n",
       " (1108, 0.32278615),\n",
       " (7279, 0.29778364),\n",
       " (1220, 0.29074025),\n",
       " (25462, 0.27526)]"
      ]
     },
     "execution_count": 31,
     "metadata": {},
     "output_type": "execute_result"
    }
   ],
   "source": [
    "s = s[1:6]\n",
    "s"
   ]
  },
  {
   "cell_type": "code",
   "execution_count": 32,
   "id": "183ac5d1",
   "metadata": {},
   "outputs": [
    {
     "data": {
      "text/plain": [
       "0.85"
      ]
     },
     "execution_count": 32,
     "metadata": {},
     "output_type": "execute_result"
    }
   ],
   "source": [
    "r = 8.5\n",
    "r /= 10\n",
    "r"
   ]
  },
  {
   "cell_type": "code",
   "execution_count": 33,
   "id": "1078005a",
   "metadata": {},
   "outputs": [
    {
     "data": {
      "text/plain": [
       "[(38627, 0.2755985528230667),\n",
       " (1108, 0.27436822950839995),\n",
       " (7279, 0.25311609655618666),\n",
       " (1220, 0.24712921380996702),\n",
       " (25462, 0.23397100120782852)]"
      ]
     },
     "execution_count": 33,
     "metadata": {},
     "output_type": "execute_result"
    }
   ],
   "source": [
    "l = [(j[0], j[1] * r) for j in s]\n",
    "l"
   ]
  },
  {
   "cell_type": "code",
   "execution_count": 34,
   "id": "28588581",
   "metadata": {},
   "outputs": [],
   "source": [
    "s = l"
   ]
  },
  {
   "cell_type": "code",
   "execution_count": 35,
   "id": "7bb6daf7",
   "metadata": {},
   "outputs": [
    {
     "data": {
      "text/plain": [
       "[(38627, 0.2755985528230667),\n",
       " (1108, 0.27436822950839995),\n",
       " (7279, 0.25311609655618666),\n",
       " (1220, 0.24712921380996702),\n",
       " (25462, 0.23397100120782852)]"
      ]
     },
     "execution_count": 35,
     "metadata": {},
     "output_type": "execute_result"
    }
   ],
   "source": [
    "lst = [j for j in s]\n",
    "lst"
   ]
  },
  {
   "cell_type": "code",
   "execution_count": 36,
   "id": "9dd64845",
   "metadata": {},
   "outputs": [],
   "source": [
    "lst.sort(key=lambda x: x[1], reverse=True)"
   ]
  },
  {
   "cell_type": "code",
   "execution_count": 37,
   "id": "25965391",
   "metadata": {},
   "outputs": [
    {
     "data": {
      "text/plain": [
       "[(38627, 0.2755985528230667),\n",
       " (1108, 0.27436822950839995),\n",
       " (7279, 0.25311609655618666),\n",
       " (1220, 0.24712921380996702),\n",
       " (25462, 0.23397100120782852)]"
      ]
     },
     "execution_count": 37,
     "metadata": {},
     "output_type": "execute_result"
    }
   ],
   "source": [
    "lst"
   ]
  },
  {
   "cell_type": "markdown",
   "id": "891898ec",
   "metadata": {},
   "source": [
    "## Recommender Model\n",
    "### Inputs\n",
    "* title: list of movies\n",
    "* rank: list of ranks"
   ]
  },
  {
   "cell_type": "code",
   "execution_count": 70,
   "id": "8b7e4608",
   "metadata": {},
   "outputs": [],
   "source": [
    "def get_recommendations(title, rank):\n",
    "    idx = []\n",
    "    for m in title:\n",
    "        if type(indices[m]) == np.int64:\n",
    "            idx.append(indices[m])\n",
    "        else:\n",
    "            idx.append(indices[m][0])\n",
    "    lst = []\n",
    "    counter = 0\n",
    "    for i in idx:\n",
    "        sim_scores = list(enumerate(cosine_sim[i]))\n",
    "        sim_scores = sorted(sim_scores, key=lambda x: x[1], reverse=True)\n",
    "        sim_scores = sim_scores[1:6]\n",
    "        \n",
    "        # ranking\n",
    "        l = [(ss[0], ss[1] * rank[counter] / 10) for ss in sim_scores]\n",
    "        counter += 1\n",
    "        sim_scores = l\n",
    "        \n",
    "        for j in sim_scores:\n",
    "            if j[0] not in idx:\n",
    "                lst.append(j)\n",
    "    # sort\n",
    "    lst.sort(key=lambda x: x[1], reverse=True)\n",
    "    l = [i[0] for i in lst]\n",
    "    movie_indices = l\n",
    "    return data['title'].iloc[movie_indices][0:5]"
   ]
  },
  {
   "cell_type": "code",
   "execution_count": 71,
   "id": "176e9976",
   "metadata": {},
   "outputs": [
    {
     "name": "stdout",
     "output_type": "stream",
     "text": [
      "Toy Story 2\n",
      "Toy Story 3\n",
      "Small Fry\n",
      "Small Soldiers\n",
      "Silent Night, Deadly Night 5: The Toy Maker\n"
     ]
    }
   ],
   "source": [
    "for i in get_recommendations(['Toy Story', 'Batman Begins'], [9, 1]):\n",
    "    print(i)"
   ]
  },
  {
   "cell_type": "code",
   "execution_count": 72,
   "id": "aa9d4927",
   "metadata": {},
   "outputs": [
    {
     "name": "stdout",
     "output_type": "stream",
     "text": [
      "Toy Story 2\n",
      "Toy Story 3\n",
      "The Dark Knight\n",
      "The Dark Knight Rises\n",
      "Batman\n"
     ]
    }
   ],
   "source": [
    "for i in get_recommendations(['Toy Story', 'Batman Begins'], [7, 6]):\n",
    "    print(i)"
   ]
  },
  {
   "cell_type": "code",
   "execution_count": 75,
   "id": "8b87e573",
   "metadata": {},
   "outputs": [
    {
     "name": "stdout",
     "output_type": "stream",
     "text": [
      "Toy Story 2\n",
      "Toy Story 3\n",
      "Small Fry\n",
      "Small Soldiers\n",
      "Silent Night, Deadly Night 5: The Toy Maker\n"
     ]
    }
   ],
   "source": [
    "for i in get_recommendations(['Toy Story'], [10]):\n",
    "    print(i)"
   ]
  },
  {
   "cell_type": "code",
   "execution_count": null,
   "id": "0309df25",
   "metadata": {},
   "outputs": [],
   "source": []
  }
 ],
 "metadata": {
  "kernelspec": {
   "display_name": "Python 3 (ipykernel)",
   "language": "python",
   "name": "python3"
  },
  "language_info": {
   "codemirror_mode": {
    "name": "ipython",
    "version": 3
   },
   "file_extension": ".py",
   "mimetype": "text/x-python",
   "name": "python",
   "nbconvert_exporter": "python",
   "pygments_lexer": "ipython3",
   "version": "3.9.12"
  }
 },
 "nbformat": 4,
 "nbformat_minor": 5
}
